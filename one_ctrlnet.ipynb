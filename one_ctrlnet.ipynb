{
 "cells": [
  {
   "cell_type": "code",
   "execution_count": null,
   "metadata": {},
   "outputs": [],
   "source": [
    "from datetime import datetime\n",
    "import torch\n",
    "import requests\n",
    "import cv2\n",
    "from PIL import Image, ImageOps\n",
    "from io import BytesIO\n",
    "from diffusers import StableDiffusionImg2ImgPipeline, ControlNetModel, StableDiffusionControlNetPipeline\n",
    "from diffusers.utils import load_image\n",
    "from controlnet_aux import OpenposeDetector, HEDdetector\n",
    "import logging\n",
    "openpose = OpenposeDetector.from_pretrained(\"lllyasviel/ControlNet\")\n",
    "hed = HEDdetector.from_pretrained('lllyasviel/ControlNet')\n",
    "\n",
    "# cnmodel = \"lllyasviel/sd-controlnet-openpose\"\n",
    "# controlnet = ControlNetModel.from_pretrained(\n",
    "#     cnmodel,\n",
    "#     torch_dtype=torch.float16,\n",
    "#     use_auth_token=TOKEN,\n",
    "# )\n",
    "#     ControlNetModel.from_pretrained(\"lllyasviel/sd-controlnet-canny\", torch_dtype=torch.float16),\n",
    "#     ControlNetModel.from_pretrained(\"lllyasviel/sd-controlnet-hed\", torch_dtype=torch.float16)\n",
    "ctrlnet1_id = \"lllyasviel/sd-controlnet-openpose\"\n",
    "controlnet = ControlNetModel.from_pretrained(ctrlnet1_id, torch_dtype=torch.float16)\n",
    "\n",
    "device = \"cuda\"\n",
    "pipeline_id = \"Lykon/DreamShaper\"\n",
    "pipe = StableDiffusionControlNetPipeline.from_pretrained(\n",
    "    pipeline_id,\n",
    "    controlnet=controlnet,\n",
    "    safety_checker=None,\n",
    "    torch_dtype=torch.float16,\n",
    "    # use_auth_token=TOKEN,\n",
    ").to(device)"
   ]
  },
  {
   "cell_type": "code",
   "execution_count": null,
   "metadata": {},
   "outputs": [],
   "source": [
    "log = logging.getLogger(__name__)\n",
    "log.setLevel(logging.INFO)\n",
    "log_name = r'./log/ctrl3.log'\n",
    "logging.basicConfig(filename=log_name)\n",
    "rh = logging.handlers.RotatingFileHandler(\n",
    "    log_name, \n",
    "    encoding='utf-8',\n",
    "    maxBytes=10000,\n",
    "    backupCount=100\n",
    ")\n",
    "\n",
    "if not log.hasHandlers():\n",
    "    log.addHandler(rh)"
   ]
  },
  {
   "cell_type": "code",
   "execution_count": null,
   "metadata": {},
   "outputs": [],
   "source": [
    "pose_path = \"pic/pose4.png\"\n",
    "pose = Image.open(pose_path).convert(\"RGB\")\n",
    "openpose_image = openpose(pose)\n",
    "# Define the cropping area (left, upper, right, lower)\n",
    "# crop_area = (100,200,400,700)\n",
    "# pose = openpose_image.crop(crop_area)\n",
    "# width, height = pose.size\n",
    "# scale = 4\n",
    "# new_w, new_h = width*scale, height*scale\n",
    "# pose = pose.resize((new_w, new_h), Image.ANTIALIAS)\n",
    "pose = openpose_image\n",
    "pose"
   ]
  },
  {
   "cell_type": "code",
   "execution_count": null,
   "metadata": {},
   "outputs": [],
   "source": [
    "prompt = \"Spartan warrior, {pure-white-skin}, {ashen-skin}, {ghost-skin}, bald, beard to his chest, muscle, sitting on the rock, upper-naked, red waistcloth, below scarlet sky, Roman shrine shattered, highly detailed, 4k\"\n",
    "negative_prompt = \"closeup, (deformed iris, deformed pupils, cgi, render, sketch, cartoon, anime:1.4), text, close up, cropped, out of frame, worst quality, low quality, jpeg artifacts, ugly, duplicate, morbid, mutilated, extra fingers, mutated hands, poorly drawn hands, poorly drawn face, mutation, deformed, blurry, dehydrated, bad anatomy, bad proportions, extra limbs, cloned face, disfigured, gross proportions, malformed limbs, missing arms, missing legs, extra arms, extra legs, fused fingers, too many fingers, long neck\"\n",
    "generator = torch.Generator(device=device).manual_seed(1024)\n",
    "guidance_scale = 8\n",
    "steps = 50\n",
    "image = pipe(prompt=prompt, negative_prompt=negative_prompt, image=pose, guidance_scale=guidance_scale, num_inference_steps=steps, generator=generator).images[0]\n",
    "now = datetime.now()\n",
    "formatted_time = now.strftime(\"%Y%m%d%H%M%S\")\n",
    "image.save(f'pic/{formatted_time}.png')\n",
    "\n",
    "log.info(\"***\")\n",
    "log.info(formatted_time)\n",
    "log.info(f\"PROMPT: {prompt}\")\n",
    "log.info(f\"NEGATIVE PROMPT: {negative_prompt}\")\n",
    "log.info(f\"MODEL: {pipeline_id}\")\n",
    "log.info(f\"CONTROL NET 1: {ctrlnet1_id}\")\n",
    "log.info(f\"IMAGE 1 PATH: {pose_path}\")\n",
    "log.info(f\"GUIDANCE SCALE: {guidance_scale}\")\n",
    "log.info(f\"STEPS: {steps}\")\n",
    "image"
   ]
  }
 ],
 "metadata": {
  "kernelspec": {
   "display_name": ".myvenv",
   "language": "python",
   "name": "python3"
  },
  "language_info": {
   "codemirror_mode": {
    "name": "ipython",
    "version": 3
   },
   "file_extension": ".py",
   "mimetype": "text/x-python",
   "name": "python",
   "nbconvert_exporter": "python",
   "pygments_lexer": "ipython3",
   "version": "3.10.11"
  },
  "orig_nbformat": 4
 },
 "nbformat": 4,
 "nbformat_minor": 2
}

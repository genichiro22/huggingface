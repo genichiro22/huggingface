{
 "cells": [
  {
   "cell_type": "code",
   "execution_count": null,
   "metadata": {},
   "outputs": [],
   "source": [
    "from datetime import datetime\n",
    "import torch\n",
    "import requests\n",
    "from PIL import Image\n",
    "from io import BytesIO\n",
    "from diffusers import StableDiffusionImg2ImgPipeline, ControlNetModel, StableDiffusionControlNetPipeline\n",
    "\n",
    "# cnmodel = \"lllyasviel/sd-controlnet-openpose\"\n",
    "# controlnet = ControlNetModel.from_pretrained(\n",
    "#     cnmodel,\n",
    "#     torch_dtype=torch.float16,\n",
    "#     use_auth_token=TOKEN,\n",
    "# )\n",
    "controlnet = [\n",
    "    ControlNetModel.from_pretrained(\"lllyasviel/sd-controlnet-openpose\", torch_dtype=torch.float16),\n",
    "    ControlNetModel.from_pretrained(\"lllyasviel/sd-controlnet-seg\", torch_dtype=torch.float16),\n",
    "]\n",
    "\n",
    "device = \"cuda\"\n",
    "i2ipl = \"Lykon/DreamShaper\"\n",
    "pipe = StableDiffusionControlNetPipeline.from_pretrained(\n",
    "    i2ipl,\n",
    "    controlnet=controlnet,\n",
    "    safety_checker=None,\n",
    "    torch_dtype=torch.float16,\n",
    "    # use_auth_token=TOKEN,\n",
    ").to(device)"
   ]
  },
  {
   "cell_type": "code",
   "execution_count": null,
   "metadata": {},
   "outputs": [],
   "source": [
    "from controlnet_aux import OpenposeDetector\n",
    "openpose = OpenposeDetector.from_pretrained(\"lllyasviel/ControlNet\")"
   ]
  },
  {
   "cell_type": "code",
   "execution_count": null,
   "metadata": {},
   "outputs": [],
   "source": [
    "file_path = \"pic/pose4.png\"\n",
    "init_image = Image.open(file_path).convert(\"RGB\")\n",
    "openpose_image = openpose(init_image)\n",
    "openpose_image"
   ]
  },
  {
   "cell_type": "code",
   "execution_count": null,
   "metadata": {},
   "outputs": [],
   "source": [
    "file_path = \"pic/1000_F_268542308_zVVNS2DsAaVd2hJix6FZ1BjVbQqMqqCg.jpg\"\n",
    "init_image_bg = Image.open(file_path).convert(\"RGB\")\n",
    "init_image_bg = init_image_bg.resize(init_image.size)\n",
    "init_image_bg"
   ]
  },
  {
   "cell_type": "code",
   "execution_count": null,
   "metadata": {},
   "outputs": [],
   "source": [
    "prompt = \"a vicious Pirate on ship, sitting on deck, black long hair, having an falchion, in ancient Roman, highly detailed, 4k, 8k, epic moment, MtG\"\n",
    "negative_prompt = \"monochrome, asian, closeup, (deformed iris, deformed pupils, semi-realistic, cgi, 3d, render, sketch, cartoon, drawing, anime:1.4), text, close up, cropped, out of frame, worst quality, low quality, jpeg artifacts, ugly, duplicate, morbid, mutilated, extra fingers, mutated hands, poorly drawn hands, poorly drawn face, mutation, deformed, blurry, dehydrated, bad anatomy, bad proportions, extra limbs, cloned face, disfigured, gross proportions, malformed limbs, missing arms, missing legs, extra arms, extra legs, fused fingers, too many fingers, long neck\"\n",
    "generator = torch.Generator(device=device).manual_seed(1024)\n",
    "image = pipe(prompt=prompt, negative_prompt=negative_prompt, image=[openpose_image, init_image_bg], controlnet_conditioning_scale=[0.9, 0.4], num_inference_steps=50, generator=generator).images[0]\n",
    "now = datetime.now()\n",
    "formatted_time = now.strftime(\"%Y%m%d%H%M%S\")\n",
    "image.save(f'pic/{formatted_time}.png')\n",
    "image"
   ]
  }
 ],
 "metadata": {
  "kernelspec": {
   "display_name": ".myvenv",
   "language": "python",
   "name": "python3"
  },
  "language_info": {
   "codemirror_mode": {
    "name": "ipython",
    "version": 3
   },
   "file_extension": ".py",
   "mimetype": "text/x-python",
   "name": "python",
   "nbconvert_exporter": "python",
   "pygments_lexer": "ipython3",
   "version": "3.10.11"
  },
  "orig_nbformat": 4
 },
 "nbformat": 4,
 "nbformat_minor": 2
}
